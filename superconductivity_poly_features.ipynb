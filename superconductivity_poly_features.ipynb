{
 "cells": [
  {
   "cell_type": "markdown",
   "metadata": {},
   "source": [
    "# An example in high-dimension\n",
    "\n",
    "We run our algorithm on the superconductivity dataset with polynomial features."
   ]
  },
  {
   "cell_type": "code",
   "execution_count": 7,
   "metadata": {
    "collapsed": true
   },
   "outputs": [],
   "source": [
    "import numpy as np\n",
    "from random import randint\n",
    "import matplotlib.pyplot as plt\n",
    "import matplotlib\n",
    "matplotlib.rcParams['agg.path.chunksize'] = 10000\n",
    "%matplotlib inline"
   ]
  },
  {
   "cell_type": "markdown",
   "metadata": {},
   "source": [
    "### Data loading"
   ]
  },
  {
   "cell_type": "code",
   "execution_count": 8,
   "metadata": {
    "collapsed": false,
    "scrolled": true
   },
   "outputs": [
    {
     "name": "stderr",
     "output_type": "stream",
     "text": [
      "/Users/boyer/anaconda/lib/python3.5/site-packages/ipykernel/__main__.py:4: FutureWarning: Method .as_matrix will be removed in a future version. Use .values instead.\n"
     ]
    }
   ],
   "source": [
    "# data loading -------------------\n",
    "import pandas as pd\n",
    "dataframe = pd.read_csv(\"data/superconductivity/train.csv\") #,sep=',')\n",
    "data = pd.DataFrame.as_matrix(dataframe)"
   ]
  },
  {
   "cell_type": "code",
   "execution_count": 9,
   "metadata": {
    "collapsed": false
   },
   "outputs": [
    {
     "name": "stdout",
     "output_type": "stream",
     "text": [
      "The number of rows is \n",
      "21263\n",
      "The number of columns is \n",
      "82\n"
     ]
    }
   ],
   "source": [
    "print(\"The number of rows is \") \n",
    "print(data.shape[0])\n",
    "print(\"The number of columns is \") \n",
    "print(data.shape[1])"
   ]
  },
  {
   "cell_type": "markdown",
   "metadata": {},
   "source": [
    "### Data preprocessing"
   ]
  },
  {
   "cell_type": "code",
   "execution_count": 10,
   "metadata": {
    "collapsed": false
   },
   "outputs": [
    {
     "name": "stdout",
     "output_type": "stream",
     "text": [
      "The number of samples is \n",
      "21262\n",
      "The number of variables is \n",
      "81\n"
     ]
    }
   ],
   "source": [
    "# data preprocessing -------------------\n",
    "X = data[:,0:81] # features in the first 81 columns\n",
    "y = data[:,81] # target in the 82th column\n",
    "\n",
    "from sklearn.preprocessing import scale\n",
    "X = scale(X)\n",
    "y = scale(y)\n",
    "X_full = X\n",
    "y_full = y\n",
    "\n",
    "\n",
    "# subsample\n",
    "n_subsample = 21262\n",
    "X_test = X[n_subsample:, :]\n",
    "y_test = y[n_subsample:]\n",
    "\n",
    "X=X[:n_subsample, :]\n",
    "y=y[:n_subsample]\n",
    "\n",
    "\n",
    "n,d = X.shape\n",
    "\n",
    "print(\"The number of samples is \") \n",
    "print(X.shape[0])\n",
    "print(\"The number of variables is \") \n",
    "print(X.shape[1])"
   ]
  },
  {
   "cell_type": "code",
   "execution_count": 11,
   "metadata": {
    "collapsed": false
   },
   "outputs": [
    {
     "name": "stdout",
     "output_type": "stream",
     "text": [
      "The number of variables is now \n",
      "3403\n"
     ]
    }
   ],
   "source": [
    "# polynomial features -------------------\n",
    "from sklearn.preprocessing import PolynomialFeatures\n",
    "poly = PolynomialFeatures(degree=2, interaction_only=False, include_bias=True, order='C')\n",
    "X_poly = poly.fit_transform(X)\n",
    "X_test_poly = poly.fit_transform(X_test)\n",
    "X_full_poly = poly.fit_transform(X_full)\n",
    "print(\"The number of variables is now \") \n",
    "print(X_poly.shape[1])"
   ]
  },
  {
   "cell_type": "code",
   "execution_count": 12,
   "metadata": {
    "collapsed": false,
    "scrolled": true
   },
   "outputs": [
    {
     "data": {
      "text/plain": [
       "array([1., 1., 1., 1., 1., 1., 1., 1., 1., 1.])"
      ]
     },
     "execution_count": 12,
     "metadata": {},
     "output_type": "execute_result"
    }
   ],
   "source": [
    "X_poly[:10,0] # checking that the intercept is in the first column"
   ]
  },
  {
   "cell_type": "markdown",
   "metadata": {},
   "source": [
    "### Introducing missing values"
   ]
  },
  {
   "cell_type": "code",
   "execution_count": 13,
   "metadata": {
    "collapsed": true
   },
   "outputs": [],
   "source": [
    "# Introducing MCAR missing values -------------------\n",
    "\n",
    "\n",
    "# random seed for reproducibility\n",
    "np.random.seed(42)\n",
    "\n",
    "# Homogeneous MCAR\n",
    "p=0.7\n",
    "mask_init = np.random.binomial(n=1, p=p, size= (n,d))\n",
    "\n",
    "# cleaning of individuals with only missing values\n",
    "index = mask_init.sum(axis=1)!=0\n",
    "X_poly = X_poly[index,]\n",
    "y = y[index,]\n",
    "mask_init = mask_init[index,]\n",
    "\n",
    "# Mask for polynomial features \n",
    "mask_poly = poly.fit_transform(mask_init)\n",
    "X_poly_NA = X_poly*mask_poly"
   ]
  },
  {
   "cell_type": "code",
   "execution_count": 14,
   "metadata": {
    "collapsed": false,
    "scrolled": true
   },
   "outputs": [
    {
     "name": "stdout",
     "output_type": "stream",
     "text": [
      "Initial mask shape\n",
      "(21262, 81)\n",
      "Poly mask shape\n",
      "(21262, 3403)\n"
     ]
    }
   ],
   "source": [
    "print(\"Initial mask shape\")\n",
    "print(mask_init.shape)\n",
    "print(\"Poly mask shape\")\n",
    "print(mask_poly.shape)"
   ]
  },
  {
   "cell_type": "code",
   "execution_count": 15,
   "metadata": {
    "collapsed": false,
    "scrolled": false
   },
   "outputs": [
    {
     "data": {
      "text/plain": [
       "<matplotlib.colorbar.Colorbar at 0x1699b9c88>"
      ]
     },
     "execution_count": 15,
     "metadata": {},
     "output_type": "execute_result"
    },
    {
     "data": {
      "image/png": "[encoded data removed]",
      "text/plain": [
       "<matplotlib.figure.Figure at 0x16993b048>"
      ]
     },
     "metadata": {},
     "output_type": "display_data"
    }
   ],
   "source": [
    "# plotting the first 100 rows of the initial mask\n",
    "plt.imshow(mask_init[:100,:])\n",
    "plt.colorbar()"
   ]
  },
  {
   "cell_type": "code",
   "execution_count": 16,
   "metadata": {
    "collapsed": false
   },
   "outputs": [
    {
     "data": {
      "text/plain": [
       "Text(0.5,1,'Estimation of probability of presence for polynomial features')"
      ]
     },
     "execution_count": 16,
     "metadata": {},
     "output_type": "execute_result"
    },
    {
     "data": {
      "image/png": "[encoded data removed]",
      "text/plain": [
       "<matplotlib.figure.Figure at 0x1699a5748>"
      ]
     },
     "metadata": {},
     "output_type": "display_data"
    }
   ],
   "source": [
    "# with polynomial features => heterogeneous missing case\n",
    "\n",
    "p_estim = np.sum(mask_poly,axis=0)/mask_poly.shape[0]\n",
    "plt.figure(figsize=(10, 5))\n",
    "plt.plot(p_estim)\n",
    "plt.title('Estimation of probability of presence for polynomial features')"
   ]
  },
  {
   "cell_type": "code",
   "execution_count": 19,
   "metadata": {
    "collapsed": false
   },
   "outputs": [
    {
     "data": {
      "image/png": "[encoded data removed]",
      "text/plain": [
       "<matplotlib.figure.Figure at 0x1d66240b8>"
      ]
     },
     "metadata": {},
     "output_type": "display_data"
    }
   ],
   "source": [
    "p_estim = np.sum(mask_poly,axis=0)/mask_poly.shape[0]\n",
    "plt.figure(figsize=(10, 5))\n",
    "plt.plot(p_estim)\n",
    "plt.savefig('poly_feature_superconductivity_proba.pdf')"
   ]
  },
  {
   "cell_type": "markdown",
   "metadata": {},
   "source": [
    "### X_poly is not full rank"
   ]
  },
  {
   "cell_type": "code",
   "execution_count": 195,
   "metadata": {
    "collapsed": true
   },
   "outputs": [],
   "source": [
    "#u,d,v = np.linalg.svd(X)"
   ]
  },
  {
   "cell_type": "code",
   "execution_count": 196,
   "metadata": {
    "collapsed": true
   },
   "outputs": [],
   "source": [
    "#u,d,v = np.linalg.svd(X_poly)\n",
    "#min(d)"
   ]
  },
  {
   "cell_type": "code",
   "execution_count": 197,
   "metadata": {
    "collapsed": true
   },
   "outputs": [],
   "source": [
    "#u,d,v = np.linalg.svd(X_poly_NA)\n",
    "#min(d)"
   ]
  },
  {
   "cell_type": "markdown",
   "metadata": {},
   "source": [
    "X_poly is not full rank but X_poly_NA is"
   ]
  },
  {
   "cell_type": "markdown",
   "metadata": {},
   "source": [
    "### Regression without missing values"
   ]
  },
  {
   "cell_type": "code",
   "execution_count": 11,
   "metadata": {
    "collapsed": false
   },
   "outputs": [
    {
     "name": "stdout",
     "output_type": "stream",
     "text": [
      "Linear regression with scikit took  29.48\n"
     ]
    }
   ],
   "source": [
    "# Regression from scikit without missing values ------------------\n",
    "from sklearn.linear_model import LinearRegression\n",
    "import time\n",
    "\n",
    "regScikit = LinearRegression(fit_intercept = False)\n",
    "start = time.time()\n",
    "regScikit.fit(X_poly,y)\n",
    "cpu_time_scikit = time.time() - start\n",
    "\n",
    "beta_ref = regScikit.coef_\n",
    "print(\"Linear regression with scikit took \", \"%.2f\" % cpu_time_scikit)"
   ]
  },
  {
   "cell_type": "code",
   "execution_count": 12,
   "metadata": {
    "collapsed": false
   },
   "outputs": [
    {
     "name": "stdout",
     "output_type": "stream",
     "text": [
      "Ridge regression with scikit took  5.74 s\n"
     ]
    }
   ],
   "source": [
    "# Regression from scikit without missing values ------------------\n",
    "from sklearn.linear_model import Ridge\n",
    "import time\n",
    "\n",
    "regScikitRidge = Ridge(fit_intercept = False, alpha=0.001)\n",
    "start = time.time()\n",
    "regScikitRidge.fit(X_poly,y)\n",
    "cpu_time_scikit = time.time() - start\n",
    "\n",
    "beta_ref_ridge = regScikitRidge.coef_\n",
    "print(\"Ridge regression with scikit took \", \"%.2f\" % cpu_time_scikit, 's')"
   ]
  },
  {
   "cell_type": "markdown",
   "metadata": {},
   "source": [
    "#### Some checks on the train set"
   ]
  },
  {
   "cell_type": "code",
   "execution_count": 13,
   "metadata": {
    "collapsed": false
   },
   "outputs": [
    {
     "data": {
      "text/plain": [
       "(array([-0.29884989, -0.31412936, -0.34866346, -0.31886402, -0.27472212,\n",
       "        -0.22639772,  0.44164144, -0.21748145, -0.18226523, -0.15678701]),\n",
       " array([-0.15826733, -0.24584948, -0.45020782, -0.36262567, -0.33343162,\n",
       "        -0.33343162, -0.68376021, -0.04149114,  0.04609101, -0.09987924]))"
      ]
     },
     "execution_count": 13,
     "metadata": {},
     "output_type": "execute_result"
    }
   ],
   "source": [
    "# checking some predictions on train \n",
    "(regScikit.predict(X_poly))[:10],y[0:10]"
   ]
  },
  {
   "cell_type": "code",
   "execution_count": 14,
   "metadata": {
    "collapsed": false,
    "scrolled": true
   },
   "outputs": [
    {
     "name": "stdout",
     "output_type": "stream",
     "text": [
      "MSE with scikit linear predictor on train 9.63e-02\n",
      "MSE with scikit ridge a=0.1      on train 9.79e-02\n"
     ]
    }
   ],
   "source": [
    "print('MSE with scikit linear predictor on train', \"%.2e\" % (np.linalg.norm((regScikit.predict(X_poly))-y)**2/n))\n",
    "print('MSE with scikit ridge a=0.1      on train', \"%.2e\" % (np.linalg.norm((regScikitRidge.predict(X_poly))-y)**2/n))"
   ]
  },
  {
   "cell_type": "markdown",
   "metadata": {},
   "source": [
    "## Ridge + cross validated error + optimal alpha"
   ]
  },
  {
   "cell_type": "code",
   "execution_count": 15,
   "metadata": {
    "collapsed": false
   },
   "outputs": [
    {
     "data": {
      "text/plain": [
       "(0.882663005524248,\n",
       " array([0.14497404, 0.1732119 , 0.22291973, 0.24986177, 0.26806887,\n",
       "        0.27330608, 0.27453375, 0.27465534]))"
      ]
     },
     "execution_count": 15,
     "metadata": {},
     "output_type": "execute_result"
    }
   ],
   "source": [
    "from sklearn.linear_model import RidgeCV\n",
    "\n",
    "clf = RidgeCV(alphas=1/14**(np.arange(0, 8)), store_cv_values=True).fit(X_full_poly,y_full)\n",
    "clf.score(X_full_poly,y_full), np.mean(clf.cv_values_, 0)"
   ]
  },
  {
   "cell_type": "markdown",
   "metadata": {},
   "source": [
    "## SGD strategies for NA"
   ]
  },
  {
   "cell_type": "code",
   "execution_count": 16,
   "metadata": {
    "collapsed": false
   },
   "outputs": [],
   "source": [
    "from sgd_lin_na import *"
   ]
  },
  {
   "cell_type": "code",
   "execution_count": 18,
   "metadata": {
    "collapsed": true
   },
   "outputs": [],
   "source": [
    "nepoch = 1\n",
    "step1 = 1e-5"
   ]
  },
  {
   "cell_type": "code",
   "execution_count": 19,
   "metadata": {
    "collapsed": false
   },
   "outputs": [],
   "source": [
    "np.random.seed(42)\n",
    "\n",
    "beta0 = np.zeros(X_poly_NA.shape[1])\n",
    "niter = X_poly_NA.shape[0]*nepoch"
   ]
  },
  {
   "cell_type": "markdown",
   "metadata": {},
   "source": [
    "### with complete data"
   ]
  },
  {
   "cell_type": "code",
   "execution_count": 20,
   "metadata": {
    "collapsed": false
   },
   "outputs": [],
   "source": [
    "n,d = X_poly.shape\n",
    "model = LinearRegressorNA_oracle(X_comp=X_poly,\n",
    "                                 X=X_poly,\n",
    "                                 D=mask_poly,\n",
    "                                 y=y,\n",
    "                                 p=1,\n",
    "                                 beta_true=beta_ref,\n",
    "                                 strength=0)\n",
    "L = model.lip_max()"
   ]
  },
  {
   "cell_type": "code",
   "execution_count": 25,
   "metadata": {
    "collapsed": false
   },
   "outputs": [
    {
     "name": "stdout",
     "output_type": "stream",
     "text": [
      "Linear regression with av SGD  for complete data took\n",
      "9.756678104400635\n"
     ]
    }
   ],
   "source": [
    "#Avg SGD - complete data -----------------------------------\n",
    "\n",
    "#step1 = 1/(2*L)\n",
    "callback_av_sgd_comp = inspector(model, verbose=False)\n",
    "start = time.time()\n",
    "beta_av_sgd_comp = avsgdNA(model, \n",
    "                           beta0 = beta0,\n",
    "                           nepoch = nepoch, \n",
    "                           step = step1, \n",
    "                           callback = callback_av_sgd_comp)\n",
    "cpu_time_av_sgd_comp = time.time() - start\n",
    "print(\"Linear regression with av SGD  for complete data took\")\n",
    "print(cpu_time_av_sgd_comp)"
   ]
  },
  {
   "cell_type": "markdown",
   "metadata": {},
   "source": [
    "### with NA"
   ]
  },
  {
   "cell_type": "code",
   "execution_count": 26,
   "metadata": {
    "collapsed": true
   },
   "outputs": [],
   "source": [
    "# mean of the probabilities to be present => to test the homogeneous case\n",
    "p_ave = np.mean(p_estim)\n",
    "p_ave = p_ave*np.ones((d))"
   ]
  },
  {
   "cell_type": "code",
   "execution_count": 27,
   "metadata": {
    "collapsed": true
   },
   "outputs": [],
   "source": [
    "model_NA = LinearRegressorNA_oracle(X_comp=X_poly,\n",
    "                                    X=X_poly_NA,\n",
    "                                    D=mask_poly,\n",
    "                                    y=y,\n",
    "                                    p=p_estim,\n",
    "                                    beta_true=beta_ref,\n",
    "                                    strength=0)\n",
    "L_NA = model_NA.lip_max()"
   ]
  },
  {
   "cell_type": "code",
   "execution_count": 28,
   "metadata": {
    "collapsed": true
   },
   "outputs": [],
   "source": [
    "model_NA_imput0 = LinearRegressorNA_oracle(X_comp=X_poly,\n",
    "                                           X=X_poly_NA,\n",
    "                                           D=mask_poly,\n",
    "                                           y=y,\n",
    "                                           p=np.ones((d)),\n",
    "                                           beta_true=beta_ref,\n",
    "                                           strength=0)\n",
    "L_NA0 = model_NA_imput0.lip_max()"
   ]
  },
  {
   "cell_type": "code",
   "execution_count": 29,
   "metadata": {
    "collapsed": true
   },
   "outputs": [],
   "source": [
    "model_NA_homog = LinearRegressorNA_oracle(X_comp=X_poly,\n",
    "                                          X=X_poly_NA,\n",
    "                                          D=mask_poly,\n",
    "                                          y=y,\n",
    "                                          p=p_ave,\n",
    "                                          beta_true=beta_ref,\n",
    "                                          strength=0)\n"
   ]
  },
  {
   "cell_type": "code",
   "execution_count": 30,
   "metadata": {
    "collapsed": false
   },
   "outputs": [
    {
     "name": "stdout",
     "output_type": "stream",
     "text": [
      "Linear regression with av SGD took\n",
      "8.211771011352539\n"
     ]
    }
   ],
   "source": [
    "#Avg SGD - data with NA\n",
    "callback_av_sgd = inspector(model_NA, verbose=False)\n",
    "#step1 = 1/(2*L_NA)\n",
    "\n",
    "start = time.time()\n",
    "beta_av_sgd = avsgdNA(model_NA, \n",
    "                      beta0 = beta0,\n",
    "                      nepoch = nepoch, \n",
    "                      step = step1, \n",
    "                      callback = callback_av_sgd)\n",
    "cpu_time_av_sgd = time.time() - start\n",
    "print(\"Linear regression with av SGD took\")\n",
    "print(cpu_time_av_sgd)\n",
    "\n"
   ]
  },
  {
   "cell_type": "code",
   "execution_count": 31,
   "metadata": {
    "collapsed": false
   },
   "outputs": [
    {
     "name": "stdout",
     "output_type": "stream",
     "text": [
      "Linear regression with av SGD took\n",
      "16.26438307762146\n"
     ]
    }
   ],
   "source": [
    "#Avg SGD - data with NA - homogeneous version\n",
    "callback_av_sgd_homog = inspector(model_NA, verbose=False)\n",
    "#step1 = 1/(2*L_NA)\n",
    "\n",
    "start = time.time()\n",
    "beta_av_sgd_homog = avsgdNA(model_NA_homog, \n",
    "                            beta0 = beta0,\n",
    "                            nepoch = nepoch, \n",
    "                            step = step1, \n",
    "                            callback = callback_av_sgd_homog)\n",
    "cpu_time_av_sgd_homog = time.time() - start\n",
    "print(\"Linear regression with av SGD took\")\n",
    "print(cpu_time_av_sgd_homog)\n"
   ]
  },
  {
   "cell_type": "code",
   "execution_count": 32,
   "metadata": {
    "collapsed": false
   },
   "outputs": [
    {
     "name": "stdout",
     "output_type": "stream",
     "text": [
      "Linear regression with av SGD took\n",
      "9.774752855300903\n"
     ]
    }
   ],
   "source": [
    "#Avg SGD - data with NA - only imputed by 0\n",
    "callback_av_sgd_imput0 = inspector(model_NA, verbose=False)\n",
    "#step1 = 1/(2*L_NA0)\n",
    "\n",
    "start = time.time()\n",
    "beta_av_sgd_imput0 = avsgdNA(model_NA_homog, \n",
    "                             beta0 = beta0,\n",
    "                             nepoch = nepoch, \n",
    "                             step = step1, \n",
    "                             callback = callback_av_sgd_imput0)\n",
    "cpu_time_av_sgd_imput0 = time.time() - start\n",
    "print(\"Linear regression with av SGD took\")\n",
    "print(cpu_time_av_sgd_imput0)"
   ]
  },
  {
   "cell_type": "markdown",
   "metadata": {},
   "source": [
    "### Plotting the results"
   ]
  },
  {
   "cell_type": "code",
   "execution_count": 33,
   "metadata": {
    "collapsed": false,
    "scrolled": true
   },
   "outputs": [
    {
     "data": {
      "text/plain": [
       "<matplotlib.legend.Legend at 0x124019198>"
      ]
     },
     "execution_count": 33,
     "metadata": {},
     "output_type": "execute_result"
    },
    {
     "data": {
      "image/png": "[encoded data removed]",
      "text/plain": [
       "<matplotlib.figure.Figure at 0x124027ac8>"
      ]
     },
     "metadata": {},
     "output_type": "display_data"
    }
   ],
   "source": [
    "# Plotting - training -----------------------------------------\n",
    "callbacks = [callback_av_sgd_comp, callback_av_sgd, callback_av_sgd_homog, callback_av_sgd_imput0] \n",
    "names = [\"AvSGD\", \"AvSGD (NA)\", \"AvSGD (NA), homog algo\", \"AvSGD (NA, imput0)\"] \n",
    "\n",
    "\n",
    "# Convergence in terms of excess risk ---\n",
    "plt.figure(figsize=(10, 5))\n",
    "alphas=[1,1,1,0.5]\n",
    "for callback, name, alpha in zip(callbacks, names, alphas):\n",
    "    objectives = callback.objectives -  model.loss(beta_ref)\n",
    "    objectives_dist = np.array(callback.dist_it)\n",
    "    plt.loglog(objectives, label=name, lw=2,alpha=alpha)\n",
    "\n",
    "\n",
    "plt.xlabel(r'$n$',fontsize=16)\n",
    "plt.ylabel(r\"$R_n(\\beta_k) - R_n(\\beta_{ref})$\", fontsize=16)\n",
    "plt.legend(loc='lower left')"
   ]
  },
  {
   "cell_type": "code",
   "execution_count": 34,
   "metadata": {
    "collapsed": false
   },
   "outputs": [
    {
     "name": "stdout",
     "output_type": "stream",
     "text": [
      "MSE with scikit linear predictor on train 9.63e-02\n",
      "MSE with scikit ridge a=0.1      on train 9.79e-02\n",
      "MSE with beta_av_SGD             on train 3.37e-01\n"
     ]
    }
   ],
   "source": [
    "print('MSE with scikit linear predictor on train', \"%.2e\" % (np.linalg.norm((regScikit.predict(X_poly))-y)**2/n))\n",
    "print('MSE with scikit ridge a=0.1      on train', \"%.2e\" % (np.linalg.norm((regScikitRidge.predict(X_poly))-y)**2/n))\n",
    "print('MSE with beta_av_SGD             on train', \"%.2e\" % (np.linalg.norm(X_poly.dot(beta_av_sgd)-y)**2/n))"
   ]
  },
  {
   "cell_type": "markdown",
   "metadata": {},
   "source": [
    "#### On test"
   ]
  },
  {
   "cell_type": "code",
   "execution_count": 35,
   "metadata": {
    "collapsed": false
   },
   "outputs": [
    {
     "data": {
      "text/plain": [
       "(array([-0.71819706]), array([-0.63121092]))"
      ]
     },
     "execution_count": 35,
     "metadata": {},
     "output_type": "execute_result"
    }
   ],
   "source": [
    "(regScikit.predict(X_test_poly))[:10],y_test[0:10]"
   ]
  },
  {
   "cell_type": "code",
   "execution_count": 36,
   "metadata": {
    "collapsed": false,
    "scrolled": true
   },
   "outputs": [
    {
     "name": "stdout",
     "output_type": "stream",
     "text": [
      "MSE with scikit linear predictor  on test 7.57e-07\n",
      "MSE with scikit ridge a=0.001     on test 5.55e-07\n",
      "MSE with beta_av_SGD              on test 3.59e-06\n",
      "MSE with beta_av_SGD_NA           on test 2.65e-06\n",
      "MSE with beta_av_SGD_homog        on test 9.45e-06\n",
      "MSE with beta_av_SGD_imput0       on test 9.45e-06\n"
     ]
    }
   ],
   "source": [
    "# Plotting - test ------------------------\n",
    "\n",
    "n_test = 10000\n",
    "print('MSE with scikit linear predictor  on test', \"%.2e\" %\n",
    "    (np.linalg.norm((regScikit.predict(X_test_poly)) - y_test)**2 / n_test))\n",
    "print('MSE with scikit ridge a=0.001     on test',\n",
    "      \"%.2e\" % (np.linalg.norm((regScikitRidge.predict(X_test_poly)) - y_test)**2 / n_test))\n",
    "print('MSE with beta_av_SGD              on test',\n",
    "      \"%.2e\" % (np.linalg.norm(X_test_poly.dot(beta_av_sgd_comp)-y_test)**2/n_test))\n",
    "print('MSE with beta_av_SGD_NA           on test',\n",
    "      \"%.2e\" % (np.linalg.norm(X_test_poly.dot(beta_av_sgd)-y_test)**2/n_test))\n",
    "print('MSE with beta_av_SGD_homog        on test',\n",
    "      \"%.2e\" % (np.linalg.norm(X_test_poly.dot(beta_av_sgd_homog)-y_test)**2/n_test))\n",
    "print('MSE with beta_av_SGD_imput0       on test',\n",
    "      \"%.2e\" % (np.linalg.norm(X_test_poly.dot(beta_av_sgd_imput0)-y_test)**2/n_test))\n"
   ]
  },
  {
   "cell_type": "code",
   "execution_count": 44,
   "metadata": {
    "collapsed": false
   },
   "outputs": [
    {
     "data": {
      "image/png": "[encoded data removed]",
      "text/plain": [
       "<matplotlib.figure.Figure at 0x1d5514f98>"
      ]
     },
     "metadata": {},
     "output_type": "display_data"
    }
   ],
   "source": [
    "# Plotting - training -----------------------------------------\n",
    "callbacks = [callback_av_sgd_comp, callback_av_sgd, callback_av_sgd_imput0] \n",
    "names = [\"AvSGD (complete data)\", \"AvSGD (NA)\", \"AvSGD (NA, imput0)\"] \n",
    "\n",
    "\n",
    "# Convergence in terms of excess risk ---\n",
    "plt.figure(figsize=(10, 5))\n",
    "alphas=[1,1,1,0.5]\n",
    "for callback, name, alpha in zip(callbacks, names, alphas):\n",
    "    objectives = callback.objectives -  model.loss(beta_ref)\n",
    "    objectives_dist = np.array(callback.dist_it)\n",
    "    plt.loglog(objectives, label=name, lw=2,alpha=alpha)\n",
    "\n",
    "\n",
    "plt.xlabel(r'$k$ (one epoch)',fontsize=16)\n",
    "plt.ylabel(r\"$R_n(\\beta_k) - R_n(\\beta^*)$\", fontsize=16)\n",
    "plt.legend(loc='lower left')\n",
    "plt.savefig('superconductivity_poly_features.pdf')"
   ]
  },
  {
   "cell_type": "code",
   "execution_count": null,
   "metadata": {
    "collapsed": true
   },
   "outputs": [],
   "source": []
  }
 ],
 "metadata": {
  "anaconda-cloud": {},
  "kernelspec": {
   "display_name": "Python [default]",
   "language": "python",
   "name": "python3"
  },
  "language_info": {
   "codemirror_mode": {
    "name": "ipython",
    "version": 3
   },
   "file_extension": ".py",
   "mimetype": "text/x-python",
   "name": "python",
   "nbconvert_exporter": "python",
   "pygments_lexer": "ipython3",
   "version": "3.5.2"
  }
 },
 "nbformat": 4,
 "nbformat_minor": 2
}
