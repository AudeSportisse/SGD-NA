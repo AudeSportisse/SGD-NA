{
 "cells": [
  {
   "cell_type": "markdown",
   "metadata": {},
   "source": [
    "# Notebook 3: deal with real (missing) data"
   ]
  },
  {
   "cell_type": "markdown",
   "metadata": {},
   "source": [
    "This Notebook explains how to use the *LinearRegressorNA* class to compute, in the case of real missing values, the coefficient of the underlying model assumed to be linear. In practice, if the dataset contain missing values, note the following facts:\n",
    "\n",
    "* we can not compute the quadratic loss,\n",
    "$$\\frac{1}{2n}\\|y-X\\hat{\\beta}\\|^2 + \\lambda\\frac{1}{2}\\|\\beta\\|^2,$$\n",
    "since we do not have access to the complete data matrix $X$.\n",
    "\n",
    "* we assume an heterogeneous MCAR mechanism. The probability of being missing $p_j, j=1,\\dots,d$ are estimated from the binary matrix $D$ coding for the presence of missing entries. \n",
    "\n",
    "\n",
    "In this Notebook, we use synthetic data and introduce missing values, but we will assume that the complete matrix is unknown."
   ]
  },
  {
   "cell_type": "code",
   "execution_count": 1,
   "metadata": {
    "collapsed": true
   },
   "outputs": [],
   "source": [
    "import numpy as np\n",
    "from random import randint\n",
    "import matplotlib.pyplot as plt\n",
    "import matplotlib\n",
    "matplotlib.rcParams['agg.path.chunksize'] = 10000"
   ]
  },
  {
   "cell_type": "code",
   "execution_count": 2,
   "metadata": {
    "collapsed": false
   },
   "outputs": [
    {
     "name": "stderr",
     "output_type": "stream",
     "text": [
      "/Users/boyer/anaconda/lib/python3.5/site-packages/ipykernel/__main__.py:3: FutureWarning: Method .as_matrix will be removed in a future version. Use .values instead.\n",
      "  app.launch_new_instance()\n"
     ]
    }
   ],
   "source": [
    "import pandas as pd\n",
    "dataframe = pd.read_csv(\"data.csv\") \n",
    "data = pd.DataFrame.as_matrix(dataframe)"
   ]
  },
  {
   "cell_type": "code",
   "execution_count": 3,
   "metadata": {
    "collapsed": true
   },
   "outputs": [],
   "source": [
    "## Synthetic data \n",
    "np.random.seed(42)\n",
    "n = int(1e5)\n",
    "d = 3\n",
    "\n",
    "Rdm_M = np.random.randn(d, d)\n",
    "H_temp = Rdm_M @ Rdm_M.T\n",
    "diag = np.diag(1 / np.arange(1, d+1)) \n",
    "P = np.linalg.eig(H_temp)[1]\n",
    "H = P @ diag @ P.T\n",
    "X = np.random.multivariate_normal(np.zeros(d), H, n)\n",
    "\n",
    "beta_true = np.random.randn(d) \n",
    "sigma = 1\n",
    "y = np.dot(X,beta_true) + sigma*np.random.randn(n)"
   ]
  },
  {
   "cell_type": "code",
   "execution_count": 4,
   "metadata": {
    "collapsed": true
   },
   "outputs": [],
   "source": [
    "# MCAR Heterogenous setting\n",
    "p = np.random.uniform(low=0.7,high=1,size=d)\n",
    "D_init = np.zeros((n,d))\n",
    "for j in range(0,d):\n",
    "       D_init[:,j] = np.random.binomial(n=1, p=p[j], size= n)\n",
    "\n",
    "X_NA = X*D_init\n",
    "index = D_init.sum(axis=1)!=0\n",
    "X_NA = X_NA[index,]\n",
    "X = X[index,]\n",
    "y = y[index,]\n",
    "D = D_init[index,]\n",
    "n,d = X.shape"
   ]
  },
  {
   "cell_type": "code",
   "execution_count": 5,
   "metadata": {
    "collapsed": true
   },
   "outputs": [],
   "source": [
    "from sgd_lin_na_realdata import *"
   ]
  },
  {
   "cell_type": "code",
   "execution_count": 6,
   "metadata": {
    "collapsed": true
   },
   "outputs": [],
   "source": [
    "nepoch = 100\n",
    "beta0 = np.zeros(d)\n",
    "model = LinearRegressorNA(X=X,D=D,y=y,strength=0)\n",
    "L = model.lip_max()\n",
    "step = 1/(2*L) "
   ]
  },
  {
   "cell_type": "code",
   "execution_count": 8,
   "metadata": {
    "collapsed": false
   },
   "outputs": [],
   "source": [
    "# SGD\n",
    "beta_sgd = sgdNA(model,\n",
    "                 beta0,\n",
    "                 nepoch,\n",
    "                 choice_step=\"sqrt\",\n",
    "                 step=step,\n",
    "                 callback_modulo=n)"
   ]
  },
  {
   "cell_type": "code",
   "execution_count": 9,
   "metadata": {
    "collapsed": true
   },
   "outputs": [],
   "source": [
    "# SGD_cst\n",
    "beta_sgd_cst = sgdNA(model,\n",
    "                     beta0,\n",
    "                     nepoch,\n",
    "                     choice_step=\"cst\",\n",
    "                     step=step,\n",
    "                     callback_modulo=n)"
   ]
  },
  {
   "cell_type": "code",
   "execution_count": 10,
   "metadata": {
    "collapsed": true
   },
   "outputs": [],
   "source": [
    "# AvSGD\n",
    "beta_sgd_av = avsgdNA(model,\n",
    "                      beta0,\n",
    "                      nepoch,\n",
    "                      step=step,\n",
    "                      callback_modulo=n)"
   ]
  },
  {
   "cell_type": "code",
   "execution_count": 11,
   "metadata": {
    "collapsed": true
   },
   "outputs": [],
   "source": [
    "import pandas as pd\n",
    "res_df = pd.DataFrame(columns=[]) #['variables','beta_sgd_av_1','beta_sgd_av_100','beta_sgd_av_200','beta_sgd_av_300','beta_sgd_av_restart200','beta_em','beta_reg'])\n",
    "\n",
    "res_df['SGD'] = beta_sgd\n",
    "res_df['SGD_cst'] = beta_sgd_cst\n",
    "res_df['AvSGD'] = beta_sgd_av\n",
    "res_df['True'] = beta_true\n"
   ]
  },
  {
   "cell_type": "code",
   "execution_count": 12,
   "metadata": {
    "collapsed": false
   },
   "outputs": [
    {
     "data": {
      "text/html": [
       "<div>\n",
       "<style scoped>\n",
       "    .dataframe tbody tr th:only-of-type {\n",
       "        vertical-align: middle;\n",
       "    }\n",
       "\n",
       "    .dataframe tbody tr th {\n",
       "        vertical-align: top;\n",
       "    }\n",
       "\n",
       "    .dataframe thead th {\n",
       "        text-align: right;\n",
       "    }\n",
       "</style>\n",
       "<table border=\"1\" class=\"dataframe\">\n",
       "  <thead>\n",
       "    <tr style=\"text-align: right;\">\n",
       "      <th></th>\n",
       "      <th>SGD</th>\n",
       "      <th>SGD_cst</th>\n",
       "      <th>AvSGD</th>\n",
       "      <th>True</th>\n",
       "    </tr>\n",
       "  </thead>\n",
       "  <tbody>\n",
       "    <tr>\n",
       "      <th>0</th>\n",
       "      <td>-0.772760</td>\n",
       "      <td>-0.805541</td>\n",
       "      <td>-0.773249</td>\n",
       "      <td>-0.794006</td>\n",
       "    </tr>\n",
       "    <tr>\n",
       "      <th>1</th>\n",
       "      <td>-0.362042</td>\n",
       "      <td>-0.372288</td>\n",
       "      <td>-0.360295</td>\n",
       "      <td>-0.344326</td>\n",
       "    </tr>\n",
       "    <tr>\n",
       "      <th>2</th>\n",
       "      <td>0.959762</td>\n",
       "      <td>0.999712</td>\n",
       "      <td>0.960420</td>\n",
       "      <td>0.917108</td>\n",
       "    </tr>\n",
       "  </tbody>\n",
       "</table>\n",
       "</div>"
      ],
      "text/plain": [
       "        SGD   SGD_cst     AvSGD      True\n",
       "0 -0.772760 -0.805541 -0.773249 -0.794006\n",
       "1 -0.362042 -0.372288 -0.360295 -0.344326\n",
       "2  0.959762  0.999712  0.960420  0.917108"
      ]
     },
     "execution_count": 12,
     "metadata": {},
     "output_type": "execute_result"
    }
   ],
   "source": [
    "res_df"
   ]
  },
  {
   "cell_type": "markdown",
   "metadata": {},
   "source": [
    "We evaluate the results by computing:\n",
    "$$\\|\\hat{\\beta}-\\beta\\|_2^2$$"
   ]
  },
  {
   "cell_type": "code",
   "execution_count": 13,
   "metadata": {
    "collapsed": false
   },
   "outputs": [],
   "source": [
    "norm_sgd = np.linalg.norm(beta_sgd-beta_true)\n",
    "norm_sgdcst=np.linalg.norm(beta_sgd_cst-beta_true)\n",
    "norm_avsgd=np.linalg.norm(beta_sgd_av-beta_true)"
   ]
  },
  {
   "cell_type": "code",
   "execution_count": 14,
   "metadata": {
    "collapsed": false
   },
   "outputs": [
    {
     "name": "stdout",
     "output_type": "stream",
     "text": [
      "Distance to the minimizer - SGD     5.08e-02\n",
      "Distance to the minimizer - SGD cst 8.80e-02\n",
      "Distance to the minimizer - avSGD   5.06e-02\n"
     ]
    }
   ],
   "source": [
    "print('Distance to the minimizer - SGD    ', \"%.2e\" %(norm_sgd))\n",
    "print('Distance to the minimizer - SGD cst', \"%.2e\" %(norm_sgdcst))\n",
    "print('Distance to the minimizer - avSGD  ', \"%.2e\" %(norm_avsgd))"
   ]
  },
  {
   "cell_type": "code",
   "execution_count": null,
   "metadata": {
    "collapsed": true
   },
   "outputs": [],
   "source": []
  }
 ],
 "metadata": {
  "anaconda-cloud": {},
  "kernelspec": {
   "display_name": "Python [default]",
   "language": "python",
   "name": "python3"
  },
  "language_info": {
   "codemirror_mode": {
    "name": "ipython",
    "version": 3
   },
   "file_extension": ".py",
   "mimetype": "text/x-python",
   "name": "python",
   "nbconvert_exporter": "python",
   "pygments_lexer": "ipython3",
   "version": "3.5.2"
  }
 },
 "nbformat": 4,
 "nbformat_minor": 2
}
