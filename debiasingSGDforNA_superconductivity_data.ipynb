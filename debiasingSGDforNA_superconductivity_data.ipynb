{
 "cells": [
  {
   "cell_type": "markdown",
   "metadata": {},
   "source": [
    "# Notebook 2: superconductivity dataset"
   ]
  },
  {
   "cell_type": "markdown",
   "metadata": {},
   "source": [
    "*This notebook contains the script for computation and for the visualisation of Figure 5 (section 5.2.2).*"
   ]
  },
  {
   "cell_type": "code",
   "execution_count": 1,
   "metadata": {
    "collapsed": true
   },
   "outputs": [],
   "source": [
    "import numpy as np\n",
    "from random import randint\n",
    "import matplotlib.pyplot as plt\n",
    "import matplotlib\n",
    "matplotlib.rcParams['agg.path.chunksize'] = 10000"
   ]
  },
  {
   "cell_type": "code",
   "execution_count": 2,
   "metadata": {
    "collapsed": false
   },
   "outputs": [
    {
     "name": "stderr",
     "output_type": "stream",
     "text": [
      "/Users/audesportisse/anaconda3/lib/python3.7/site-packages/ipykernel_launcher.py:3: FutureWarning: Method .as_matrix will be removed in a future version. Use .values instead.\n",
      "  This is separate from the ipykernel package so we can avoid doing imports until\n"
     ]
    }
   ],
   "source": [
    "import pandas as pd\n",
    "dataframe = pd.read_csv(\"data.csv\") \n",
    "data = pd.DataFrame.as_matrix(dataframe) # Deprecated!\n",
    "#data = dataframe.to_numpy()"
   ]
  },
  {
   "cell_type": "code",
   "execution_count": 3,
   "metadata": {
    "collapsed": true
   },
   "outputs": [],
   "source": [
    "X = data[:,0:81] \n",
    "y = data[:,81] \n",
    "\n",
    "from sklearn.preprocessing import scale\n",
    "X = scale(X)\n",
    "y = scale(y)\n",
    "\n",
    "n,d = X.shape"
   ]
  },
  {
   "cell_type": "code",
   "execution_count": 4,
   "metadata": {
    "collapsed": true
   },
   "outputs": [],
   "source": [
    "X_reg=np.concatenate((X, np.ones((n,1))), axis=1)\n",
    "beta_reg=(np.linalg.pinv(X_reg.T.dot(X_reg)).dot(X_reg.T)).dot(y)"
   ]
  },
  {
   "cell_type": "code",
   "execution_count": 6,
   "metadata": {
    "collapsed": true
   },
   "outputs": [],
   "source": [
    "from sgd_lin_na import *"
   ]
  },
  {
   "cell_type": "code",
   "execution_count": 8,
   "metadata": {
    "collapsed": false
   },
   "outputs": [
    {
     "name": "stdout",
     "output_type": "stream",
     "text": [
      "0\n",
      "1\n",
      "2\n",
      "3\n",
      "4\n",
      "5\n"
     ]
    }
   ],
   "source": [
    "%run 'EMcodeRtoPython.py'\n",
    "from sklearn.ensemble import RandomForestRegressor\n",
    "from sklearn.model_selection import train_test_split\n",
    "from sklearn.impute import SimpleImputer\n",
    "from sgd_lin_na import *\n",
    "from sklearn.linear_model import LinearRegression, Ridge\n",
    "from  sklearn.linear_model import RidgeCV\n",
    "\n",
    "list_sgd_av = []\n",
    "list_sgd_av_comp = []\n",
    "list_em = []\n",
    "list_mean = []\n",
    "\n",
    "list_sgd_av_st = []\n",
    "list_sgd_av_comp_st = []\n",
    "list_mean_st = []\n",
    "\n",
    "Nbsim = 6\n",
    "for seed in range(0,Nbsim):\n",
    "    print(seed)\n",
    "    \n",
    "    ## Split Train Test\n",
    "    X_train, X_test, y_train, y_test = train_test_split(X, y, test_size=0.3, random_state=seed)\n",
    "    n_test = X_test.shape[0]\n",
    "    n_train = X_train.shape[0]\n",
    "    \n",
    "    #MCAR (heterogenous)\n",
    "    p = np.random.uniform(low=0.7,high=1,size=d)\n",
    "    D_init_train = np.zeros((n_train,d))\n",
    "    for j in range(0,d):\n",
    "           D_init_train[:,j] = np.random.binomial(n=1, p=p[j], size= n_train)\n",
    "\n",
    "    X_NA_train = X_train*D_init_train\n",
    "    index=D_init_train.sum(axis=1)!=0\n",
    "    X_NA_train=X_NA_train[index,]\n",
    "    X_train = X_train[index,]\n",
    "    y_train = y_train[index,]\n",
    "    D_train = D_init_train[index,]\n",
    "    n_train,d = X_train.shape\n",
    "    \n",
    "    clf = RidgeCV(alphas=np.linspace(0.001,1,1000)).fit(X_train, y_train)\n",
    "    alpha=clf.alpha_\n",
    "    \n",
    "    ## SGD\n",
    "    X_sgd_train = np.concatenate((X_train, np.ones((n_train,1))), axis=1)\n",
    "    X_NA_sgd_train = np.concatenate((X_NA_train, np.ones((n_train,1))), axis=1)\n",
    "    D_sgd_train = np.concatenate((D_train, np.ones((n_train,1))), axis=1)\n",
    "    d_sgd = X_NA_sgd_train.shape[1]\n",
    "    p_estim = np.sum(D_sgd_train,axis=0)/D_sgd_train.shape[0]\n",
    "    model = LinearRegressorNA_oracle(X_comp=X_sgd_train,\n",
    "                                     X=X_NA_sgd_train,\n",
    "                                     D=D_sgd_train,\n",
    "                                     y=y_train,\n",
    "                                     p=p_estim,\n",
    "                                     beta_true=beta_reg,\n",
    "                                     strength=alpha)\n",
    "    \n",
    "    L = model.lip_max()\n",
    "    nepoch = 5\n",
    "    beta0 = np.zeros(d_sgd)\n",
    "    step = 1/(2*L) \n",
    "    callback_sgd_av = inspector(model,verbose=False)\n",
    "    beta_sgd_av_train = avsgdNA(model, \n",
    "                                beta0,\n",
    "                                nepoch,\n",
    "                                step=step,\n",
    "                                verbose=False,\n",
    "                                callback=callback_sgd_av)\n",
    "\n",
    "    \n",
    "    ## AVSGD complete case\n",
    "    #model = LinRegNA_oracle(X_comp=X_sgd_train,X=X_sgd_train,D=D_sgd_train,y=y_train,p=1,beta_true=beta_reg,strength=alpha)\n",
    "    model = LinearRegressorNA_oracle(X_comp=X_sgd_train,\n",
    "                                     X=X_sgd_train,\n",
    "                                     D=np.ones(X_sgd_train.shape),\n",
    "                                     y=y_train,\n",
    "                                     p=p_estim,\n",
    "                                     beta_true=beta_reg,\n",
    "                                     strength=alpha)\n",
    "    L = model.lip_max()\n",
    "    nepoch = 5\n",
    "    beta0 = np.zeros(d_sgd)\n",
    "    step = 1/(2*L) \n",
    "    callback_sgd_av_comp = inspector(model,verbose=False)\n",
    "    beta_sgd_av_train_comp = avsgd(model,\n",
    "                                   beta0,\n",
    "                                   nepoch,\n",
    "                                   step,\n",
    "                                   verbose=False,\n",
    "                                   callback=callback_sgd_av_comp)\n",
    "    \n",
    "    \n",
    "    ## Mean + AVSGD\n",
    "    imp = SimpleImputer(missing_values=np.nan, strategy='mean')\n",
    "    X_NA_train_imp = imp.fit_transform(X_NA_sgd_train)\n",
    "    model = LinearRegressorNA_oracle(X_comp=X_sgd_train,\n",
    "                                     X=X_NA_train_imp,\n",
    "                                     D=D_sgd_train,\n",
    "                                     y=y_train,\n",
    "                                     p=1,\n",
    "                                     beta_true=beta_reg,\n",
    "                                     strength=alpha)\n",
    "    L = ((X_NA_train_imp**2).sum(axis=1)).max()\n",
    "    nepoch = 5\n",
    "    beta0 = np.zeros(d_sgd)\n",
    "    step = 1/(2*L) \n",
    "    callback_sgd_av_mean = inspector(model,verbose=False)\n",
    "    beta_sgd_av_train_mean = avsgd(model,\n",
    "                                   beta0,\n",
    "                                   nepoch,\n",
    "                                   step,\n",
    "                                   verbose=False,\n",
    "                                   callback=callback_sgd_av_mean)\n",
    "    \n",
    "    \n",
    "    ### Without regularization\n",
    "    alpha=0\n",
    "    \n",
    "    \n",
    "    ## SGD\n",
    "    X_sgd_train=np.concatenate((X_train, np.ones((n_train,1))), axis=1)\n",
    "    X_NA_sgd_train=np.concatenate((X_NA_train, np.ones((n_train,1))), axis=1)\n",
    "    D_sgd_train =np.concatenate((D_train, np.ones((n_train,1))), axis=1)\n",
    "    d_sgd = X_NA_sgd_train.shape[1]\n",
    "    p_estim = np.sum(D_sgd_train,axis=0)/D_sgd_train.shape[0]\n",
    "    model = LinearRegressorNA_oracle(X_comp=X_sgd_train,\n",
    "                                     X=X_NA_sgd_train,\n",
    "                                     D=D_sgd_train,\n",
    "                                     y=y_train,\n",
    "                                     p=p_estim,\n",
    "                                     beta_true=beta_reg,\n",
    "                                     strength=alpha)  \n",
    "    L = model.lip_max()\n",
    "    nepoch = 5\n",
    "    beta0 = np.zeros(d_sgd)\n",
    "    step = 1/(2*L) \n",
    "    callback_sgd_av_st = inspector(model,verbose=False)\n",
    "    beta_sgd_av_train_st = avsgdNA(model,\n",
    "                                   beta0,\n",
    "                                   nepoch,\n",
    "                                   step,\n",
    "                                   verbose=False,\n",
    "                                   callback=callback_sgd_av_st)\n",
    "    \n",
    "    \n",
    "    ## EM\n",
    "    modelEM = EMLR()\n",
    "    D_EM_train = np.ones((n_train,d))\n",
    "    for i in range(0,n_train):\n",
    "        for j in range(0,d):\n",
    "            if (D_train[i,j]==0):\n",
    "                D_EM_train[i,j]=np.nan\n",
    "            else:\n",
    "                D_EM_train[i,j]=D_train[i,j]\n",
    "    X_NA_EM_train = X_train*D_EM_train\n",
    "    modelEM.fit(X=X_NA_EM_train,y=y_train)\n",
    "    beta0_em_train, beta_em_train = modelEM.get_beta(X_NA_EM_train)\n",
    "    \n",
    "    \n",
    "    ## AVSGD complete case\n",
    "    model = LinearRegressorNA_oracle(X_comp=X_sgd_train,\n",
    "                                     X=X_sgd_train,\n",
    "                                     D=D_sgd_train,\n",
    "                                     y=y_train,\n",
    "                                     p=1,\n",
    "                                     beta_true=beta_reg,\n",
    "                                     strength=alpha)\n",
    "    L = model.lip_max()\n",
    "    nepoch = 5\n",
    "    beta0 = np.zeros(d_sgd)\n",
    "    step = 1/(2*L) \n",
    "    callback_sgd_av_comp_st = inspector(model,verbose=False)\n",
    "    beta_sgd_av_train_comp_st = avsgd(model,\n",
    "                                      beta0,\n",
    "                                      nepoch,\n",
    "                                      step,\n",
    "                                      callback=callback_sgd_av_comp_st,\n",
    "                                      verbose=False)\n",
    "\n",
    "    \n",
    "    ## Mean + AVSGD\n",
    "    imp = SimpleImputer(missing_values=np.nan, strategy='mean')\n",
    "    X_NA_train_imp = imp.fit_transform(X_NA_sgd_train)\n",
    "    model = LinearRegressorNA_oracle(X_comp=X_sgd_train,\n",
    "                                     X=X_NA_train_imp,\n",
    "                                     D=D_sgd_train,\n",
    "                                     y=y_train,\n",
    "                                     p=1,\n",
    "                                     beta_true=beta_reg,\n",
    "                                     strength=alpha)\n",
    "    L = ((X_NA_train_imp**2).sum(axis=1)).max()\n",
    "    nepoch = 5\n",
    "    beta0 = np.zeros(d_sgd)\n",
    "    step = 1/(2*L) \n",
    "    callback_sgd_av_mean_st = inspector(model,verbose=False)\n",
    "    beta_sgd_av_train_mean_st = avsgd(model,\n",
    "                                      beta0,\n",
    "                                      nepoch,\n",
    "                                      step,\n",
    "                                      callback=callback_sgd_av_mean_st,\n",
    "                                      verbose=False)\n",
    "\n",
    "\n",
    "    ## Prediction \n",
    "    X_test_int=np.concatenate((X_test, np.ones((n_test,1))), axis=1)\n",
    "    y_pred_sgd_av = X_test_int.dot(beta_sgd_av_train)\n",
    "    y_pred_sgd_av_comp = X_test_int.dot(beta_sgd_av_train_comp)\n",
    "    y_pred_sgd_av_mean = X_test_int.dot(beta_sgd_av_train_mean)\n",
    "    y_pred_em = X_test_int.dot(np.append(beta_em_train,beta0_em_train))\n",
    "    \n",
    "    y_pred_sgd_av_st = X_test_int.dot(beta_sgd_av_train_st)\n",
    "    y_pred_sgd_av_comp_st = X_test_int.dot(beta_sgd_av_train_comp_st)\n",
    "    y_pred_sgd_av_mean_st = X_test_int.dot(beta_sgd_av_train_mean_st)\n",
    "\n",
    "    list_sgd_av.append(np.linalg.norm(y_pred_sgd_av-y_test)**2/np.linalg.norm(y_test)**2)\n",
    "    list_sgd_av_comp.append(np.linalg.norm(y_pred_sgd_av_comp-y_test)**2/np.linalg.norm(y_test)**2)\n",
    "    list_mean.append(np.linalg.norm(y_pred_sgd_av_mean-y_test)**2/np.linalg.norm(y_test)**2)\n",
    "    list_em.append(np.linalg.norm(y_pred_em-y_test)**2/np.linalg.norm(y_test)**2)\n",
    "\n",
    "    list_sgd_av_st.append(np.linalg.norm(y_pred_sgd_av_st-y_test)**2/np.linalg.norm(y_test)**2)\n",
    "    list_sgd_av_comp_st.append(np.linalg.norm(y_pred_sgd_av_comp_st-y_test)**2/np.linalg.norm(y_test)**2)\n",
    "    list_mean_st.append(np.linalg.norm(y_pred_sgd_av_mean_st-y_test)**2/np.linalg.norm(y_test)**2)"
   ]
  },
  {
   "cell_type": "code",
   "execution_count": 9,
   "metadata": {
    "collapsed": false
   },
   "outputs": [
    {
     "data": {
      "text/plain": [
       "''"
      ]
     },
     "execution_count": 9,
     "metadata": {},
     "output_type": "execute_result"
    },
    {
     "data": {
      "image/png": "[encoded data removed]",
      "text/plain": [
       "<Figure size 440.125x360 with 1 Axes>"
      ]
     },
     "metadata": {
      "needs_background": "light"
     },
     "output_type": "display_data"
    }
   ],
   "source": [
    "import seaborn as sns\n",
    "resultPred=pd.DataFrame()\n",
    "resultPred[\"Prediction error\"]=list_sgd_av_comp+list_sgd_av+list_mean+list_sgd_av_comp_st+list_sgd_av_st+list_mean_st \n",
    "resultPred[\"Algorithm\"]=['AvSGD complete']*Nbsim+['AvSGD']*Nbsim+['Mean+AvSGD']*Nbsim+['AvSGD complete']*Nbsim+['AvSGD']*Nbsim+['Mean+AvSGD']*Nbsim \n",
    "resultPred[\"Regularization\"]=[\"None\"]*Nbsim*3 +['Ridge']*Nbsim*3\n",
    "\n",
    "my_pal= {\"None\": \"mediumseagreen\", \"Ridge\": \"darkgreen\"}\n",
    "sns.catplot(x=\"Algorithm\", y=\"Prediction error\", kind=\"box\",palette=my_pal, data=resultPred,hue=\"Regularization\")\n",
    ";"
   ]
  },
  {
   "cell_type": "code",
   "execution_count": null,
   "metadata": {
    "collapsed": true
   },
   "outputs": [],
   "source": []
  }
 ],
 "metadata": {
  "anaconda-cloud": {},
  "kernelspec": {
   "display_name": "Python [default]",
   "language": "python",
   "name": "python3"
  },
  "language_info": {
   "codemirror_mode": {
    "name": "ipython",
    "version": 3
   },
   "file_extension": ".py",
   "mimetype": "text/x-python",
   "name": "python",
   "nbconvert_exporter": "python",
   "pygments_lexer": "ipython3",
   "version": "3.5.2"
  }
 },
 "nbformat": 4,
 "nbformat_minor": 2
}
