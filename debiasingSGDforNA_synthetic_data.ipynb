{
 "cells": [
  {
   "cell_type": "markdown",
   "metadata": {},
   "source": [
    "# Notebook 1: synthetic data"
   ]
  },
  {
   "cell_type": "markdown",
   "metadata": {},
   "source": [
    "*This notebook contains the script for computation and for the visualisation of Figures 1, 2, 3 and 6(section 5.1).*"
   ]
  },
  {
   "cell_type": "markdown",
   "metadata": {},
   "source": [
    "## Figure 1: 1 pass or 100 passes ? "
   ]
  },
  {
   "cell_type": "code",
   "execution_count": 1,
   "metadata": {
    "collapsed": true
   },
   "outputs": [],
   "source": [
    "import numpy as np\n",
    "from random import randint\n",
    "import matplotlib.pyplot as plt\n",
    "import matplotlib\n",
    "matplotlib.rcParams['agg.path.chunksize'] = 10000\n",
    "%matplotlib inline"
   ]
  },
  {
   "cell_type": "code",
   "execution_count": 2,
   "metadata": {
    "collapsed": true
   },
   "outputs": [],
   "source": [
    "from sgd_lin_na import *"
   ]
  },
  {
   "cell_type": "markdown",
   "metadata": {},
   "source": [
    "### 1 pass, $n=10^5$"
   ]
  },
  {
   "cell_type": "code",
   "execution_count": 3,
   "metadata": {
    "collapsed": true
   },
   "outputs": [],
   "source": [
    "## Synthetic data \n",
    "np.random.seed(42)\n",
    "n = int(1e5)\n",
    "d = 10\n",
    "\n",
    "Rdm_M = np.random.randn(d, d)\n",
    "H_temp = Rdm_M @ Rdm_M.T\n",
    "diag = np.diag(1 / np.arange(1, d+1)) \n",
    "P = np.linalg.eig(H_temp)[1]\n",
    "H = P @ diag @ P.T\n",
    "X = np.random.multivariate_normal(np.zeros(d), H, n)\n",
    "\n",
    "beta_true = np.random.randn(d) \n",
    "sigma = 1\n",
    "y = np.dot(X,beta_true) + sigma*np.random.randn(n)"
   ]
  },
  {
   "cell_type": "code",
   "execution_count": 4,
   "metadata": {
    "collapsed": true
   },
   "outputs": [],
   "source": [
    "##Introduction of missing values\n",
    "# Homogeneous setting\n",
    "p =0.7\n",
    "D_init = np.random.binomial(n=1, p=p, size= (n,d))\n",
    "X_NA = X*D_init\n",
    "\n",
    "## removing lines which contain only missing values. \n",
    "index = D_init.sum(axis=1)!=0\n",
    "X_NA = X_NA[index,]\n",
    "X = X[index,]\n",
    "y = y[index,]\n",
    "D = D_init[index,]\n",
    "n,d = X.shape"
   ]
  },
  {
   "cell_type": "code",
   "execution_count": 5,
   "metadata": {
    "collapsed": false
   },
   "outputs": [
    {
     "data": {
      "text/plain": [
       "0.700621"
      ]
     },
     "execution_count": 5,
     "metadata": {},
     "output_type": "execute_result"
    }
   ],
   "source": [
    "p_estim = D.sum()/(n*d)\n",
    "p_estim"
   ]
  },
  {
   "cell_type": "code",
   "execution_count": 6,
   "metadata": {
    "collapsed": true
   },
   "outputs": [],
   "source": [
    "model = LinearRegressorNA_oracle(X_comp=X,\n",
    "                                 X=X_NA,\n",
    "                                 D=D,\n",
    "                                 y=y,\n",
    "                                 p=p_estim,\n",
    "                                 beta_true=beta_true,\n",
    "                                 strength=0)\n",
    "L = model.lip_max()"
   ]
  },
  {
   "cell_type": "code",
   "execution_count": 7,
   "metadata": {
    "collapsed": true
   },
   "outputs": [],
   "source": [
    "nepoch = 1 #number of passes: 1\n",
    "beta0 = np.zeros(d)"
   ]
  },
  {
   "cell_type": "code",
   "execution_count": 8,
   "metadata": {
    "collapsed": false
   },
   "outputs": [],
   "source": [
    "#SGD\n",
    "step = 1/(2*L) \n",
    "callback_sgd = inspector(model,verbose=False)\n",
    "beta_sgd = sgdNA(model, \n",
    "                 beta0,\n",
    "                 nepoch, \n",
    "                 choice_step = 'sqrt', \n",
    "                 step = step, \n",
    "                 verbose = False, \n",
    "                 callback = callback_sgd,\n",
    "                 callback_modulo = 100)"
   ]
  },
  {
   "cell_type": "code",
   "execution_count": 9,
   "metadata": {
    "collapsed": false
   },
   "outputs": [],
   "source": [
    "#SGD_cst\n",
    "step = 1/(2*L) \n",
    "callback_sgd_cst = inspector(model,verbose=False)\n",
    "beta_sgd_cst = sgdNA(model, \n",
    "                 beta0,\n",
    "                 nepoch, \n",
    "                 choice_step = 'cst', \n",
    "                 step = step, \n",
    "                 verbose = False, \n",
    "                 callback = callback_sgd_cst,\n",
    "                 callback_modulo = 100)\n"
   ]
  },
  {
   "cell_type": "code",
   "execution_count": 10,
   "metadata": {
    "collapsed": false
   },
   "outputs": [],
   "source": [
    "#AvSGD\n",
    "step = 1/(2*L)\n",
    "callback_sgd_av = inspector(model,verbose=False)\n",
    "beta_sgd_av = avsgdNA(model, \n",
    "                 beta0,\n",
    "                 nepoch, \n",
    "                 step = step, \n",
    "                 verbose = False, \n",
    "                 callback = callback_sgd_av,\n",
    "                 callback_modulo = 100)"
   ]
  },
  {
   "cell_type": "code",
   "execution_count": 11,
   "metadata": {
    "collapsed": true
   },
   "outputs": [],
   "source": [
    "beta_ERM =(np.linalg.pinv(X.T.dot(X)).dot(X.T)).dot(y)\n",
    "obj = model.loss(beta_ERM)"
   ]
  },
  {
   "cell_type": "code",
   "execution_count": 12,
   "metadata": {
    "collapsed": true
   },
   "outputs": [],
   "source": [
    "callbacks=[callback_sgd_cst,callback_sgd,callback_sgd_av]"
   ]
  },
  {
   "cell_type": "markdown",
   "metadata": {},
   "source": [
    "### 100 passes, $n=10^3$"
   ]
  },
  {
   "cell_type": "code",
   "execution_count": 13,
   "metadata": {
    "collapsed": true
   },
   "outputs": [],
   "source": [
    "## Synthetic data \n",
    "np.random.seed(42)\n",
    "n = int(1e3)\n",
    "d = 10\n",
    "\n",
    "Rdm_M = np.random.randn(d, d)\n",
    "H_temp = Rdm_M @ Rdm_M.T\n",
    "diag = np.diag(1 / np.arange(1, d+1)) \n",
    "P = np.linalg.eig(H_temp)[1]\n",
    "H = P @ diag @ P.T\n",
    "X = np.random.multivariate_normal(np.zeros(d), H, n)\n",
    "\n",
    "beta_true = np.random.randn(d) \n",
    "sigma = 1\n",
    "y = np.dot(X,beta_true) + sigma*np.random.randn(n)"
   ]
  },
  {
   "cell_type": "code",
   "execution_count": 14,
   "metadata": {
    "collapsed": true
   },
   "outputs": [],
   "source": [
    "##Introduction of missing values\n",
    "# Homogeneous setting\n",
    "p = 0.7\n",
    "D_init = np.random.binomial(n=1, p=p, size= (n,d))\n",
    "X_NA = X*D_init\n",
    "\n",
    "## removing lines which contain only missing values. \n",
    "index = D_init.sum(axis=1)!=0\n",
    "X_NA = X_NA[index,]\n",
    "X = X[index,]\n",
    "y = y[index,]\n",
    "D = D_init[index,]\n",
    "n,d = X.shape"
   ]
  },
  {
   "cell_type": "code",
   "execution_count": 15,
   "metadata": {
    "collapsed": true
   },
   "outputs": [],
   "source": [
    "p_estim = D.sum()/(n*d)"
   ]
  },
  {
   "cell_type": "code",
   "execution_count": 16,
   "metadata": {
    "collapsed": true
   },
   "outputs": [],
   "source": [
    "model = LinearRegressorNA_oracle(X_comp=X,\n",
    "                                 X=X_NA,\n",
    "                                 D=D,\n",
    "                                 y=y,\n",
    "                                 p=p_estim,\n",
    "                                 beta_true=beta_true,\n",
    "                                 strength=0)\n",
    "L = model.lip_max()"
   ]
  },
  {
   "cell_type": "code",
   "execution_count": 17,
   "metadata": {
    "collapsed": true
   },
   "outputs": [],
   "source": [
    "nepoch = 100 #number of passes: 100\n",
    "beta0 = np.zeros(d)"
   ]
  },
  {
   "cell_type": "code",
   "execution_count": 18,
   "metadata": {
    "collapsed": true
   },
   "outputs": [],
   "source": [
    "#SGD\n",
    "step = 1/(2*L) \n",
    "callback_sgd_hundred = inspector(model,verbose=False)\n",
    "beta_sgd_hundred = sgdNA(model, \n",
    "                         beta0,\n",
    "                         nepoch, \n",
    "                         choice_step=\"sqrt\", \n",
    "                         step=step, verbose=False, \n",
    "                         callback=callback_sgd_hundred)"
   ]
  },
  {
   "cell_type": "code",
   "execution_count": 19,
   "metadata": {
    "collapsed": false
   },
   "outputs": [],
   "source": [
    "#SGD_cst\n",
    "step = 1/(2*L) \n",
    "callback_sgd_cst_hundred = inspector(model,verbose=False)\n",
    "beta_sgd_cst_hundred = sgdNA(model, \n",
    "                             beta0, \n",
    "                             nepoch, \n",
    "                             choice_step=\"cst\", \n",
    "                             step=step, verbose=False, \n",
    "                             callback=callback_sgd_cst_hundred)"
   ]
  },
  {
   "cell_type": "code",
   "execution_count": 20,
   "metadata": {
    "collapsed": false
   },
   "outputs": [],
   "source": [
    "#AvSGD\n",
    "step = 1/(2*L)\n",
    "callback_sgd_av_hundred = inspector(model,verbose=False)\n",
    "beta_sgd_av_hundred = avsgdNA(model, \n",
    "                              beta0,\n",
    "                              nepoch, \n",
    "                              step=step, \n",
    "                              verbose=False, \n",
    "                              callback=callback_sgd_av_hundred)"
   ]
  },
  {
   "cell_type": "code",
   "execution_count": 21,
   "metadata": {
    "collapsed": true
   },
   "outputs": [],
   "source": [
    "beta_ERM =(np.linalg.pinv(X.T.dot(X)).dot(X.T)).dot(y)\n",
    "obj_hundred = model.loss(beta_ERM)"
   ]
  },
  {
   "cell_type": "code",
   "execution_count": 22,
   "metadata": {
    "collapsed": true
   },
   "outputs": [],
   "source": [
    "callbacks_hundred = [callback_sgd_cst_hundred,callback_sgd_hundred,callback_sgd_av_hundred]\n",
    "names = [\"SGD_cst\",\"SGD\",\"AvSGD\"]"
   ]
  },
  {
   "cell_type": "code",
   "execution_count": 23,
   "metadata": {
    "collapsed": false
   },
   "outputs": [
    {
     "data": {
      "image/png": "[encoded data removed]",
      "text/plain": [
       "<matplotlib.figure.Figure at 0x11b0cf1d0>"
      ]
     },
     "metadata": {},
     "output_type": "display_data"
    }
   ],
   "source": [
    "figure = plt.figure(figsize=(12, 5))\n",
    "plt.gcf().subplots_adjust(left = 0.1, bottom = 0.1, right = 0.9, top = 0.9, wspace = 0.5, hspace = 0)\n",
    "axes = figure.add_subplot(1, 2, 1)\n",
    "\n",
    "\n",
    "for callback, name in zip(callbacks_hundred, names):\n",
    "    objectives = np.array(callback.objectives) \n",
    "    objectives_dist = objectives - obj_hundred\n",
    "    axes.plot(objectives_dist, label=name, lw=2)\n",
    "\n",
    "axes.set_yscale(\"log\")\n",
    "axes.set_xscale(\"log\")\n",
    "\n",
    "axes.set_xlabel('n',fontsize=16) \n",
    "axes.set_ylabel(r\"$R_n(\\beta_k)-R_n(\\beta_\\star)$\", fontsize=16)\n",
    "axes.legend(loc='lower left')\n",
    "axes.set_title(r\"$n=10^{3}$, 100 passes\", fontsize=16)\n",
    "\n",
    "axes = figure.add_subplot(1, 2, 2)\n",
    "\n",
    "for callback, name in zip(callbacks, names):\n",
    "    objectives = np.array(callback.objectives)\n",
    "    objectives_dist = objectives - obj\n",
    "    axes.plot(objectives_dist, label=name, lw=2)\n",
    "    \n",
    "axes.set_yscale(\"log\")\n",
    "axes.set_xscale(\"log\")\n",
    "axes.set_xlabel('n',fontsize=16) \n",
    "axes.set_ylabel(r\"$R_n(\\beta_k)-R_n(\\beta_\\star)$\", fontsize=16)\n",
    "axes.set_title(r\"$n=10^{5}$, 1 passes\", fontsize=16)\n",
    "axes.legend(loc='lower left')\n",
    "plt.show()"
   ]
  },
  {
   "cell_type": "markdown",
   "metadata": {},
   "source": [
    "## Figure 2: estimating $L$ or not"
   ]
  },
  {
   "cell_type": "code",
   "execution_count": 24,
   "metadata": {
    "collapsed": false
   },
   "outputs": [],
   "source": [
    "## Synthetic data \n",
    "np.random.seed(42)\n",
    "n = int(1e5)\n",
    "d = 10\n",
    "\n",
    "Rdm_M = np.random.randn(d, d)\n",
    "H_temp = Rdm_M @ Rdm_M.T\n",
    "diag = np.diag(1 / np.arange(1, d+1)) \n",
    "P = np.linalg.eig(H_temp)[1]\n",
    "H = P @ diag @ P.T\n",
    "X = np.random.multivariate_normal(np.zeros(d), H, n)\n",
    "\n",
    "beta_true = np.random.randn(d) \n",
    "sigma = 1\n",
    "y = np.dot(X,beta_true) + sigma*np.random.randn(n)"
   ]
  },
  {
   "cell_type": "code",
   "execution_count": 25,
   "metadata": {
    "collapsed": true
   },
   "outputs": [],
   "source": [
    "##Introduction of missing values\n",
    "# Homogeneous setting \n",
    "p = 0.7\n",
    "D_init = np.random.binomial(n=1, p=p, size= (n,d))\n",
    "X_NA = X*D_init\n",
    "\n",
    "## removing lines which contain only missing values. \n",
    "index = D_init.sum(axis=1)!=0\n",
    "X_NA = X_NA[index,]\n",
    "X = X[index,]\n",
    "y = y[index,]\n",
    "D = D_init[index,]\n",
    "n,d = X.shape"
   ]
  },
  {
   "cell_type": "code",
   "execution_count": 26,
   "metadata": {
    "collapsed": true
   },
   "outputs": [],
   "source": [
    "p_estim = D.sum()/(n*d)"
   ]
  },
  {
   "cell_type": "code",
   "execution_count": 27,
   "metadata": {
    "collapsed": false
   },
   "outputs": [],
   "source": [
    "model = LinearRegressorNA_oracle(X_comp=X,\n",
    "                                 X=X_NA,\n",
    "                                 D=D,\n",
    "                                 y=y,\n",
    "                                 p=p_estim,\n",
    "                                 beta_true=beta_true,\n",
    "                                 strength=0)"
   ]
  },
  {
   "cell_type": "markdown",
   "metadata": {},
   "source": [
    "### Estimating L"
   ]
  },
  {
   "cell_type": "code",
   "execution_count": 28,
   "metadata": {
    "collapsed": false
   },
   "outputs": [
    {
     "name": "stdout",
     "output_type": "stream",
     "text": [
      "53.03709367437547\n"
     ]
    }
   ],
   "source": [
    "L = model.lip_max()\n",
    "print(L)"
   ]
  },
  {
   "cell_type": "code",
   "execution_count": 29,
   "metadata": {
    "collapsed": true
   },
   "outputs": [],
   "source": [
    "nepoch = 1 #number of passes: 1\n",
    "beta0 = np.zeros(d)"
   ]
  },
  {
   "cell_type": "code",
   "execution_count": 30,
   "metadata": {
    "collapsed": false
   },
   "outputs": [
    {
     "name": "stdout",
     "output_type": "stream",
     "text": [
      "4.578751087188721\n"
     ]
    }
   ],
   "source": [
    "#SGD\n",
    "import time\n",
    "step = 1/(2*L) \n",
    "callback_sgd = inspector(model,verbose=False)\n",
    "start = time.time()\n",
    "beta_sgd = sgdNA(model, \n",
    "                 beta0,\n",
    "                 nepoch, \n",
    "                 choice_step=\"sqrt\", \n",
    "                 step=step, \n",
    "                 verbose=False, \n",
    "                 callback=callback_sgd)\n",
    "print(time.time()-start)"
   ]
  },
  {
   "cell_type": "code",
   "execution_count": 31,
   "metadata": {
    "collapsed": false
   },
   "outputs": [],
   "source": [
    "# SGD_cst\n",
    "step = 1/(2*L) \n",
    "callback_sgd_cst = inspector(model,verbose=False)\n",
    "beta_sgd_cst = sgdNA(model, \n",
    "                     beta0 , \n",
    "                     nepoch,\n",
    "                     choice_step=\"cst\", \n",
    "                     step=step, \n",
    "                     verbose=False, \n",
    "                     callback=callback_sgd_cst)"
   ]
  },
  {
   "cell_type": "code",
   "execution_count": 32,
   "metadata": {
    "collapsed": false
   },
   "outputs": [
    {
     "name": "stdout",
     "output_type": "stream",
     "text": [
      "4.746155023574829\n"
     ]
    }
   ],
   "source": [
    "#AvSGD\n",
    "step = 1/(2*L)\n",
    "callback_sgd_av = inspector(model,verbose=False)\n",
    "start = time.time()\n",
    "beta_sgd_av = avsgdNA(model, \n",
    "                      beta0 , \n",
    "                      nepoch,\n",
    "                      step=step, \n",
    "                      verbose=False, \n",
    "                      callback=callback_sgd_av)\n",
    "cpu_av_100 = time.time()-start\n",
    "print(cpu_av_100)"
   ]
  },
  {
   "cell_type": "code",
   "execution_count": 33,
   "metadata": {
    "collapsed": true
   },
   "outputs": [],
   "source": [
    "beta_ERM =(np.linalg.pinv(X.T.dot(X)).dot(X.T)).dot(y)\n",
    "obj = model.loss(beta_ERM)"
   ]
  },
  {
   "cell_type": "code",
   "execution_count": 34,
   "metadata": {
    "collapsed": true
   },
   "outputs": [],
   "source": [
    "callbacks = [callback_sgd_cst,callback_sgd,callback_sgd_av]"
   ]
  },
  {
   "cell_type": "markdown",
   "metadata": {},
   "source": [
    "### $L$ supposed as known"
   ]
  },
  {
   "cell_type": "code",
   "execution_count": 35,
   "metadata": {
    "collapsed": false
   },
   "outputs": [
    {
     "name": "stdout",
     "output_type": "stream",
     "text": [
      "42.36686740188435\n"
     ]
    }
   ],
   "source": [
    "L_oracle = model.lip_max_theo()\n",
    "print(L_oracle)"
   ]
  },
  {
   "cell_type": "code",
   "execution_count": 36,
   "metadata": {
    "collapsed": true
   },
   "outputs": [],
   "source": [
    "nepoch = 1 #number of passes: 1\n",
    "beta0 = np.zeros(d)"
   ]
  },
  {
   "cell_type": "code",
   "execution_count": 37,
   "metadata": {
    "collapsed": false
   },
   "outputs": [],
   "source": [
    "# SGD\n",
    "step = 1/(2*L_oracle) \n",
    "callback_sgd_oracle = inspector(model,verbose=False)\n",
    "beta_sgd_oracle = sgdNA(model, \n",
    "                             beta0 ,\n",
    "                             nepoch,\n",
    "                             choice_step=\"sqrt\", \n",
    "                             step=step, \n",
    "                             verbose=False, \n",
    "                             callback=callback_sgd_oracle)"
   ]
  },
  {
   "cell_type": "code",
   "execution_count": 38,
   "metadata": {
    "collapsed": true
   },
   "outputs": [],
   "source": [
    "# SGD_cst\n",
    "step = 1/(2*L_oracle) \n",
    "callback_sgd_cst_oracle = inspector(model,verbose=False)\n",
    "beta_sgd_cst_oracle = sgdNA(model, \n",
    "                            beta0,\n",
    "                            nepoch,\n",
    "                            choice_step=\"cst\", \n",
    "                            step=step, \n",
    "                            verbose=False, \n",
    "                            callback=callback_sgd_cst_oracle)"
   ]
  },
  {
   "cell_type": "code",
   "execution_count": 39,
   "metadata": {
    "collapsed": true
   },
   "outputs": [],
   "source": [
    "#AvSGD\n",
    "step = 1/(2*L_oracle)\n",
    "callback_sgd_av_oracle = inspector(model,verbose=False)\n",
    "beta_sgd_av_oracle = avsgdNA(model, \n",
    "                             beta0, \n",
    "                             nepoch, \n",
    "                             step=step, \n",
    "                             verbose=False, \n",
    "                             callback=callback_sgd_av_oracle)"
   ]
  },
  {
   "cell_type": "code",
   "execution_count": 40,
   "metadata": {
    "collapsed": true
   },
   "outputs": [],
   "source": [
    "callbacks_oracle = [callback_sgd_cst_oracle,callback_sgd_oracle,callback_sgd_av_oracle]\n",
    "names = [\"SGD_cst\",\"SGD\",\"AvSGD\"]"
   ]
  },
  {
   "cell_type": "code",
   "execution_count": 41,
   "metadata": {
    "collapsed": false
   },
   "outputs": [
    {
     "data": {
      "text/plain": [
       "''"
      ]
     },
     "execution_count": 41,
     "metadata": {},
     "output_type": "execute_result"
    },
    {
     "data": {
      "image/png": "[encoded data removed]",
      "text/plain": [
       "<matplotlib.figure.Figure at 0x11ba30400>"
      ]
     },
     "metadata": {},
     "output_type": "display_data"
    }
   ],
   "source": [
    "figure = plt.figure(figsize=(12, 5))\n",
    "plt.gcf().subplots_adjust(left = 0.1, bottom = 0.1, right = 0.9, top = 0.9, wspace = 0.5, hspace = 0)\n",
    "axes = figure.add_subplot(1, 2, 1)\n",
    "\n",
    "\n",
    "for callback, name in zip(callbacks, names):\n",
    "    objectives = np.array(callback.objectives) \n",
    "    objectives_dist = objectives - obj\n",
    "    axes.plot(objectives_dist, label=name, lw=2)\n",
    "\n",
    "axes.set_yscale(\"log\")\n",
    "axes.set_xscale(\"log\")\n",
    "axes.set_xlabel('n',fontsize=16) \n",
    "axes.set_ylabel(r\"$R_n(\\beta_k)-R_n(\\beta_\\star)$\", fontsize=16)\n",
    "axes.set_title(r\"$\\hat{L}_n^\\mathrm{NA}=$\"+str(round(L,2)), fontsize=16)\n",
    "axes.legend(loc='lower left')\n",
    "\n",
    "axes = figure.add_subplot(1, 2, 2)\n",
    "\n",
    "for callback, name in zip(callbacks_oracle, names):\n",
    "    objectives = np.array(callback.objectives)\n",
    "    objectives_dist = objectives - obj\n",
    "    axes.plot(objectives_dist, label=name, lw=2)\n",
    "    \n",
    "axes.set_yscale(\"log\")\n",
    "axes.set_xscale(\"log\")\n",
    "axes.set_xlabel('n',fontsize=16) \n",
    "axes.set_ylabel(r\"$R_n(\\beta_k)-R_n(\\beta_\\star)$\", fontsize=16)\n",
    "axes.set_title(r\"$\\hat{L}_n^\\mathrm{OR}=$\"+str(round(L_oracle,2)), fontsize=16)\n",
    "axes.legend(loc='lower left')\n",
    ";"
   ]
  },
  {
   "cell_type": "markdown",
   "metadata": {},
   "source": [
    "## Figure 3: homogeneous versus heterogeneous MCAR mechanism"
   ]
  },
  {
   "cell_type": "code",
   "execution_count": 42,
   "metadata": {
    "collapsed": true
   },
   "outputs": [],
   "source": [
    "## Synthetic data \n",
    "np.random.seed(42)\n",
    "n = int(1e5)\n",
    "d = 10\n",
    "\n",
    "Rdm_M = np.random.randn(d, d)\n",
    "H_temp = Rdm_M @ Rdm_M.T\n",
    "diag = np.diag(1 / np.arange(1, d+1)) \n",
    "P = np.linalg.eig(H_temp)[1]\n",
    "H = P @ diag @ P.T\n",
    "X = np.random.multivariate_normal(np.zeros(d), H, n)\n",
    "\n",
    "beta_true = np.random.randn(d) \n",
    "sigma = 1\n",
    "y = np.dot(X,beta_true) + sigma*np.random.randn(n)"
   ]
  },
  {
   "cell_type": "code",
   "execution_count": 43,
   "metadata": {
    "collapsed": true
   },
   "outputs": [],
   "source": [
    "##Introduction of missing values\n",
    "# Heterogeneous setting\n",
    "p = [0.6, 0.7, 0.8, 0.8, 0.9, 0.7, 0.9, 0.6, 0.9, 0.8]\n",
    "D_init = np.zeros((n,d))\n",
    "for j in range(0,d):\n",
    "    D_init[:,j] = np.random.binomial(n=1, p=p[j], size= n)\n",
    "X_NA = X*D_init\n",
    "    \n",
    "## removing lines which contain only missing values. \n",
    "index = D_init.sum(axis=1)!=0\n",
    "X_NA = X_NA[index,]\n",
    "X = X[index,]\n",
    "y = y[index,]\n",
    "D = D_init[index,]\n",
    "n,d = X.shape"
   ]
  },
  {
   "cell_type": "markdown",
   "metadata": {},
   "source": [
    "### Homogeneous"
   ]
  },
  {
   "cell_type": "code",
   "execution_count": 44,
   "metadata": {
    "collapsed": false
   },
   "outputs": [
    {
     "data": {
      "text/plain": [
       "0.770389"
      ]
     },
     "execution_count": 44,
     "metadata": {},
     "output_type": "execute_result"
    }
   ],
   "source": [
    "p_homo = D.sum()/(n*d)\n",
    "p_homo"
   ]
  },
  {
   "cell_type": "code",
   "execution_count": 45,
   "metadata": {
    "collapsed": false
   },
   "outputs": [],
   "source": [
    "model = LinearRegressorNA_oracle(X_comp=X,\n",
    "                                 X=X_NA,\n",
    "                                 D=D,\n",
    "                                 y=y,\n",
    "                                 p=p_homo,\n",
    "                                 beta_true=beta_true,\n",
    "                                 strength=0)\n",
    "L = model.lip_max()"
   ]
  },
  {
   "cell_type": "code",
   "execution_count": 46,
   "metadata": {
    "collapsed": true
   },
   "outputs": [],
   "source": [
    "nepoch = 1 #number of passes: 1\n",
    "beta0 = np.zeros(d)"
   ]
  },
  {
   "cell_type": "code",
   "execution_count": 47,
   "metadata": {
    "collapsed": true
   },
   "outputs": [],
   "source": [
    "#AvSGD\n",
    "step = 1/(2*L)\n",
    "callback_sgd_av = inspector(model,verbose=False)\n",
    "beta_sgd_av = avsgdNA(model, \n",
    "                      beta0,\n",
    "                      nepoch,\n",
    "                      step=step, \n",
    "                      verbose=False,\n",
    "                      callback=callback_sgd_av)"
   ]
  },
  {
   "cell_type": "code",
   "execution_count": 48,
   "metadata": {
    "collapsed": true
   },
   "outputs": [],
   "source": [
    "beta_ERM =(np.linalg.pinv(X.T.dot(X)).dot(X.T)).dot(y)\n",
    "obj = model.loss(beta_ERM)"
   ]
  },
  {
   "cell_type": "markdown",
   "metadata": {},
   "source": [
    "### Heterogenous"
   ]
  },
  {
   "cell_type": "code",
   "execution_count": 49,
   "metadata": {
    "collapsed": false
   },
   "outputs": [
    {
     "data": {
      "text/plain": [
       "<Container object of 3 artists>"
      ]
     },
     "execution_count": 49,
     "metadata": {},
     "output_type": "execute_result"
    },
    {
     "data": {
      "image/png": "[encoded data removed]",
      "text/plain": [
       "<matplotlib.figure.Figure at 0x11bd95080>"
      ]
     },
     "metadata": {},
     "output_type": "display_data"
    }
   ],
   "source": [
    "p_estim = np.sum(D,axis=0)/D.shape[0]\n",
    "plt.stem(p_estim)"
   ]
  },
  {
   "cell_type": "code",
   "execution_count": 50,
   "metadata": {
    "collapsed": true
   },
   "outputs": [],
   "source": [
    "model = LinearRegressorNA_oracle(X_comp=X,\n",
    "                                 X=X_NA,\n",
    "                                 D=D,\n",
    "                                 y=y,\n",
    "                                 p=p_estim,\n",
    "                                 beta_true=beta_true,\n",
    "                                 strength=0)\n",
    "L = model.lip_max()"
   ]
  },
  {
   "cell_type": "code",
   "execution_count": 51,
   "metadata": {
    "collapsed": true
   },
   "outputs": [],
   "source": [
    "nepoch = 1 #number of passes: 1\n",
    "beta0 = np.zeros(d)"
   ]
  },
  {
   "cell_type": "code",
   "execution_count": 52,
   "metadata": {
    "collapsed": false
   },
   "outputs": [],
   "source": [
    "#AvSGD\n",
    "step = 1/(2*L)\n",
    "callback_sgd_av_heter = inspector(model,verbose=False)\n",
    "beta_sgd_av_heter = avsgdNA(model, \n",
    "                            beta0,\n",
    "                            nepoch,\n",
    "                            step=step, \n",
    "                            verbose=False,\n",
    "                            callback=callback_sgd_av_heter)"
   ]
  },
  {
   "cell_type": "code",
   "execution_count": 53,
   "metadata": {
    "collapsed": true
   },
   "outputs": [],
   "source": [
    "beta_ERM=(np.linalg.pinv(X.T.dot(X)).dot(X.T)).dot(y)\n",
    "obj_heter = model.loss(beta_ERM)"
   ]
  },
  {
   "cell_type": "code",
   "execution_count": 54,
   "metadata": {
    "collapsed": false
   },
   "outputs": [
    {
     "data": {
      "text/plain": [
       "''"
      ]
     },
     "execution_count": 54,
     "metadata": {},
     "output_type": "execute_result"
    },
    {
     "data": {
      "image/png": "[encoded data removed]",
      "text/plain": [
       "<matplotlib.figure.Figure at 0x11b1470f0>"
      ]
     },
     "metadata": {},
     "output_type": "display_data"
    }
   ],
   "source": [
    "plt.figure(figsize=(10, 5))\n",
    "obj_hetero = callback_sgd_av_heter.objectives - obj\n",
    "absc = np.arange(1,n+2,100)\n",
    "plt.loglog(absc,obj_hetero, label=\"AvSGD_heterogeneous\", lw=2, color=\"g\")\n",
    "obj_homo = np.array(callback_sgd_av.objectives) - obj\n",
    "plt.loglog(absc,obj_homo, label=\"AvSGD_homogeneous\", lw=2, color=\"g\", linestyle=\"dashed\")\n",
    "plt.ylabel(r\"$\\||\\beta_k-\\beta_\\star\\||^2$\", fontsize=16)\n",
    "plt.ylabel(r\"$R_n(\\beta_k)-R_n(\\beta_\\star)$\", fontsize=16)\n",
    "plt.legend(loc='lower left', fontsize=16)\n",
    ";"
   ]
  },
  {
   "cell_type": "markdown",
   "metadata": {},
   "source": [
    "## Figure 6: polynomial features"
   ]
  },
  {
   "cell_type": "code",
   "execution_count": 55,
   "metadata": {
    "collapsed": true
   },
   "outputs": [],
   "source": [
    "## Synthetic data \n",
    "np.random.seed(42)\n",
    "n = int(1e5)\n",
    "d = 3\n",
    "Rdm_M = np.random.randn(d-1, d-1)\n",
    "H_temp = Rdm_M @ Rdm_M.T\n",
    "diag = np.diag(1 / np.arange(1, d))*0.1\n",
    "P = np.linalg.eig(H_temp)[1]\n",
    "H = P @ diag @ P.T\n",
    "X = np.random.multivariate_normal(np.zeros(d-1), H, n)\n",
    "X = X**2\n",
    "X = np.concatenate((X, np.transpose(np.array([X[:,0]*X[:,1]]))), axis=1)\n",
    "\n",
    "beta_true = np.random.randn(d)\n",
    "sigma = 0.1\n",
    "y = np.dot(X,beta_true) + sigma*np.random.randn(n)"
   ]
  },
  {
   "cell_type": "code",
   "execution_count": 56,
   "metadata": {
    "collapsed": true
   },
   "outputs": [],
   "source": [
    "##Introduction of missing values\n",
    "\n",
    "# Heterogenous setting\n",
    "p = [0.9,0.6]\n",
    "D_init = np.zeros((n,d-1))\n",
    "for j in range(0,d-1):\n",
    "    D_init[:,j] = np.random.binomial(n=1, p=p[j], size= n)\n",
    "D_init = np.concatenate((D_init, np.transpose(np.array([D_init[:,0]*D_init[:,1]]))), axis=1)\n",
    "\n",
    "X_NA = X*D_init\n",
    "index = D_init.sum(axis=1)!=0\n",
    "X_NA = X_NA[index,]\n",
    "X = X[index,]\n",
    "y = y[index,]\n",
    "D = D_init[index,]\n",
    "n,d = X.shape"
   ]
  },
  {
   "cell_type": "code",
   "execution_count": 57,
   "metadata": {
    "collapsed": false
   },
   "outputs": [
    {
     "name": "stdout",
     "output_type": "stream",
     "text": [
      "The number of variables is now \n",
      "10\n"
     ]
    }
   ],
   "source": [
    "# polynomial features -------------------\n",
    "from sklearn.preprocessing import PolynomialFeatures\n",
    "poly = PolynomialFeatures(degree=2, interaction_only=False, include_bias=True, order='C')\n",
    "X_poly = poly.fit_transform(X)\n",
    "beta_ERM = (np.linalg.pinv(X_poly.T.dot(X_poly)).dot(X_poly.T)).dot(y)\n",
    "\n",
    "print(\"The number of variables is now \") \n",
    "print(X_poly.shape[1])"
   ]
  },
  {
   "cell_type": "code",
   "execution_count": 58,
   "metadata": {
    "collapsed": false
   },
   "outputs": [
    {
     "data": {
      "text/plain": [
       "<Container object of 3 artists>"
      ]
     },
     "execution_count": 58,
     "metadata": {},
     "output_type": "execute_result"
    },
    {
     "data": {
      "image/png": "[encoded data removed]",
      "text/plain": [
       "<matplotlib.figure.Figure at 0x119435d68>"
      ]
     },
     "metadata": {},
     "output_type": "display_data"
    }
   ],
   "source": [
    "# Mask for polynomial features \n",
    "D_poly = poly.fit_transform(D)\n",
    "X_poly_NA = X_poly*D_poly\n",
    "\n",
    "p_estim = np.sum(D_poly,axis=0)/D_poly.shape[0]\n",
    "plt.stem(p_estim)"
   ]
  },
  {
   "cell_type": "code",
   "execution_count": 59,
   "metadata": {
    "collapsed": true
   },
   "outputs": [],
   "source": [
    "model = LinearRegressorNA_oracle(X_comp=X_poly,\n",
    "                                 X=X_poly_NA,\n",
    "                                 D=D_poly,\n",
    "                                 y=y,\n",
    "                                 p=p_estim,\n",
    "                                 beta_true=beta_ERM,\n",
    "                                 strength=0)\n",
    "L = model.lip_max()"
   ]
  },
  {
   "cell_type": "code",
   "execution_count": 60,
   "metadata": {
    "collapsed": true
   },
   "outputs": [],
   "source": [
    "nepoch = 1\n",
    "beta0 = np.zeros(X_poly_NA.shape[1])"
   ]
  },
  {
   "cell_type": "code",
   "execution_count": 61,
   "metadata": {
    "collapsed": false
   },
   "outputs": [],
   "source": [
    "step = 1/(2*L)\n",
    "callback_sgd_av = inspector(model,verbose=False)\n",
    "beta_sgd_av = avsgdNA(model, \n",
    "                      beta0,\n",
    "                      nepoch,\n",
    "                      step=step,\n",
    "                      verbose=False,\n",
    "                      callback=callback_sgd_av)"
   ]
  },
  {
   "cell_type": "code",
   "execution_count": 62,
   "metadata": {
    "collapsed": false
   },
   "outputs": [
    {
     "data": {
      "text/plain": [
       "<matplotlib.legend.Legend at 0x1194c8128>"
      ]
     },
     "execution_count": 62,
     "metadata": {},
     "output_type": "execute_result"
    },
    {
     "data": {
      "image/png": "[encoded data removed]",
      "text/plain": [
       "<matplotlib.figure.Figure at 0x1194c87f0>"
      ]
     },
     "metadata": {},
     "output_type": "display_data"
    }
   ],
   "source": [
    "plt.figure(figsize=(10, 5))\n",
    "obj = callback_sgd_av.objectives - model.loss(beta_ERM)\n",
    "absc = np.arange(1,n+100,100)\n",
    "plt.loglog(absc,obj, label=\"AvSGD_poly\", lw=2, color=\"g\")\n",
    "plt.xlabel(r'$k$',fontsize=16)\n",
    "plt.ylabel(r\"$R_n(\\beta_k)-R_n(\\beta_\\star)$\", fontsize=16)\n",
    "plt.legend(loc='lower left',fontsize=16)"
   ]
  },
  {
   "cell_type": "code",
   "execution_count": null,
   "metadata": {
    "collapsed": true
   },
   "outputs": [],
   "source": []
  }
 ],
 "metadata": {
  "anaconda-cloud": {},
  "kernelspec": {
   "display_name": "Python [default]",
   "language": "python",
   "name": "python3"
  },
  "language_info": {
   "codemirror_mode": {
    "name": "ipython",
    "version": 3
   },
   "file_extension": ".py",
   "mimetype": "text/x-python",
   "name": "python",
   "nbconvert_exporter": "python",
   "pygments_lexer": "ipython3",
   "version": "3.5.2"
  }
 },
 "nbformat": 4,
 "nbformat_minor": 2
}
